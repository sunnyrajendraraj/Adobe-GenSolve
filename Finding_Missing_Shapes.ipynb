{
 "cells": [
  {
   "cell_type": "markdown",
   "id": "e45ddfb5-a19c-49f9-b86f-a66d9e95891c",
   "metadata": {},
   "source": [
    "# Finding the possible symmetries for the regularized shapes"
   ]
  },
  {
   "cell_type": "code",
   "execution_count": 34,
   "id": "4a81bc23-6ffe-4610-b683-de3c94ddb747",
   "metadata": {},
   "outputs": [
    {
     "name": "stdout",
     "output_type": "stream",
     "text": [
      "Features shape for Screenshot 2024-08-11 230705.png: (7,)\n"
     ]
    },
    {
     "data": {
      "image/png": "[encoded data removed]",
      "text/plain": [
       "<Figure size 600x600 with 1 Axes>"
      ]
     },
     "metadata": {},
     "output_type": "display_data"
    },
    {
     "name": "stdout",
     "output_type": "stream",
     "text": [
      "Image: Screenshot 2024-08-11 230705.png - Predicted Shape: circle\n"
     ]
    }
   ],
   "source": [
    "import os\n",
    "import cv2\n",
    "import numpy as np\n",
    "import matplotlib.pyplot as plt\n",
    "from sklearn.preprocessing import StandardScaler\n",
    "from sklearn.svm import SVC\n",
    "from sklearn.pipeline import make_pipeline\n",
    "\n",
    "def preprocess_image(image_path):\n",
    "    image = cv2.imread(image_path, cv2.IMREAD_GRAYSCALE)\n",
    "    _, binary_image = cv2.threshold(image, 128, 255, cv2.THRESH_BINARY_INV)\n",
    "    \n",
    "    # Find contours of the empty portions\n",
    "    contours, _ = cv2.findContours(binary_image, cv2.RETR_EXTERNAL, cv2.CHAIN_APPROX_SIMPLE)\n",
    "    \n",
    "    # Assume the largest contour is the empty portion\n",
    "    if contours:\n",
    "        empty_contour = max(contours, key=cv2.contourArea)\n",
    "        return empty_contour, image\n",
    "    return None, image\n",
    "\n",
    "def extract_features(contour):\n",
    "    if contour is None or len(contour) == 0:\n",
    "        return np.zeros(7)  # Placeholder for feature vector, adjust size as needed\n",
    "    \n",
    "    # Calculate shape features\n",
    "    moments = cv2.moments(contour)\n",
    "    hu_moments = cv2.HuMoments(moments).flatten()\n",
    "    \n",
    "    # Example feature vector\n",
    "    features = np.concatenate([hu_moments])\n",
    "    return features\n",
    "\n",
    "def classify_shape(features, model):\n",
    "    if features.size == 0:\n",
    "        raise ValueError(\"Feature vector is empty.\")\n",
    "    \n",
    "    # Ensure the features are 2D for prediction (reshape to 1 row, multiple columns)\n",
    "    features = features.reshape(1, -1)\n",
    "    return model.predict(features)[0]\n",
    "\n",
    "def train_shape_classifier(training_data, training_labels):\n",
    "\n",
    "    scaler = StandardScaler()\n",
    "    classifier = SVC(kernel='linear')\n",
    "    \n",
    "    pipeline = make_pipeline(scaler, classifier)\n",
    "    pipeline.fit(training_data, training_labels)\n",
    "    return pipeline\n",
    "\n",
    "def plot_image_with_contour(image, contour, filename):\n",
    "    if contour is not None:\n",
    "        # Draw contour on the image\n",
    "        contour_image = cv2.drawContours(image.copy(), [contour], -1, (0, 255, 0), 2)\n",
    "    else:\n",
    "        contour_image = image.copy()\n",
    "    \n",
    "    plt.figure(figsize=(6, 6))\n",
    "    plt.imshow(contour_image, cmap='gray')\n",
    "    plt.title(filename)\n",
    "    plt.axis('off')\n",
    "    plt.show()\n",
    "\n",
    "def process_images_in_directory(directory_path, model):\n",
    "    shape_predictions = {}\n",
    "    \n",
    "    for filename in os.listdir(directory_path):\n",
    "        if filename.endswith('.png'):\n",
    "            image_path = os.path.join(directory_path, filename)\n",
    "            \n",
    "            # Preprocess the image to extract the empty portion\n",
    "            contour, image = preprocess_image(image_path)\n",
    "            \n",
    "            # Extract features from the contour\n",
    "            features = extract_features(contour)\n",
    "            \n",
    "            # Print feature shape for debugging\n",
    "            print(f\"Features shape for {filename}: {features.shape}\")\n",
    "            \n",
    "            # Check if features are empty or not before classification\n",
    "            if features.size == 0:\n",
    "                shape_predictions[filename] = \"Unknown\"\n",
    "            else:\n",
    "                try:\n",
    "                    # Classify the shape\n",
    "                    shape = classify_shape(features, model)\n",
    "                    shape_predictions[filename] = shape\n",
    "                except ValueError as e:\n",
    "                    print(f\"Error classifying image {filename}: {e}\")\n",
    "                    shape_predictions[filename] = \"Unknown\"\n",
    "            \n",
    "            # Plot the image with detected contour\n",
    "            plot_image_with_contour(image, contour, filename)\n",
    "    \n",
    "    return shape_predictions\n",
    "\n",
    "training_data = np.array([\n",
    "\n",
    "    np.array([0.1, 0.2, 0.3, 0.4, 0.5, 0.6, 0.7]),  # Feature vector for shape 1\n",
    "    np.array([0.8, 0.9, 1.0, 1.1, 1.2, 1.3, 1.4]),  # Feature vector for shape 2\n",
    "\n",
    "])\n",
    "training_labels = np.array([\n",
    "    \n",
    "    'circle',  \n",
    "    'square',  \n",
    "   \n",
    "])\n",
    "\n",
    "# Train the shape classifier\n",
    "model = train_shape_classifier(training_data, training_labels)\n",
    "\n",
    "# Process images and classify shapes\n",
    "directory_path = 'C:\\\\Users\\\\LENOVO\\\\OneDrive\\\\Desktop\\\\ashxva'\n",
    "shape_predictions = process_images_in_directory(directory_path, model)\n",
    "\n",
    "for image, shape in shape_predictions.items():\n",
    "    print(f\"Image: {image} - Predicted Shape: {shape}\")\n"
   ]
  },
  {
   "cell_type": "code",
   "execution_count": null,
   "id": "13b9b606-1097-48d2-aadd-801cf2b92e60",
   "metadata": {},
   "outputs": [],
   "source": []
  }
 ],
 "metadata": {
  "kernelspec": {
   "display_name": "Python 3 (ipykernel)",
   "language": "python",
   "name": "python3"
  },
  "language_info": {
   "codemirror_mode": {
    "name": "ipython",
    "version": 3
   },
   "file_extension": ".py",
   "mimetype": "text/x-python",
   "name": "python",
   "nbconvert_exporter": "python",
   "pygments_lexer": "ipython3",
   "version": "3.11.7"
  }
 },
 "nbformat": 4,
 "nbformat_minor": 5
}
